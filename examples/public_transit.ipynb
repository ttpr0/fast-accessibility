{
 "cells": [
  {
   "cell_type": "code",
   "execution_count": null,
   "metadata": {},
   "outputs": [],
   "source": [
    "import pyaccess"
   ]
  },
  {
   "cell_type": "code",
   "execution_count": null,
   "metadata": {},
   "outputs": [],
   "source": [
    "# parse graph from osm-file\n",
    "graph = pyaccess.parse_osm(\"./data/osm.pbf\")"
   ]
  },
  {
   "cell_type": "code",
   "execution_count": null,
   "metadata": {},
   "outputs": [],
   "source": [
    "# remove all unconnected nodes and edges from the graph\n",
    "graph.optimize_base()\n",
    "# add a default weighting (time cost of traversing a street)\n",
    "graph.add_default_weighting()"
   ]
  },
  {
   "cell_type": "code",
   "execution_count": null,
   "metadata": {},
   "outputs": [],
   "source": [
    "# parse public transit data from gtfs-file\n",
    "stops, connections, schedule = pyaccess.parse_gtfs(\"./data/gtfs\", \"./data/filter.json\")"
   ]
  },
  {
   "cell_type": "code",
   "execution_count": null,
   "metadata": {},
   "outputs": [],
   "source": [
    "# add public transit data as an overlay to the graph using the created default weighting\n",
    "graph.add_public_transit(\"transit\", stops, connections)\n",
    "# add transit schedule for every weekday parsed from gtfs\n",
    "for day in schedule:\n",
    "    weight = pyaccess.new_transit_weighting(graph, \"transit\")\n",
    "    sc = schedule[day]\n",
    "    for i in range(len(sc)):\n",
    "        trips = sc[i]\n",
    "        weight.set_connection_schedule(i, trips)\n",
    "    graph.add_transit_weighting(day, weight, \"transit\")"
   ]
  },
  {
   "cell_type": "code",
   "execution_count": null,
   "metadata": {},
   "outputs": [],
   "source": [
    "# store graph to disk\n",
    "graph.store(\"transit\", \"./graphs\")"
   ]
  }
 ],
 "metadata": {
  "kernelspec": {
   "display_name": "Python 3",
   "language": "python",
   "name": "python3"
  },
  "language_info": {
   "codemirror_mode": {
    "name": "ipython",
    "version": 3
   },
   "file_extension": ".py",
   "mimetype": "text/x-python",
   "name": "python",
   "nbconvert_exporter": "python",
   "pygments_lexer": "ipython3",
   "version": "3.10.4"
  }
 },
 "nbformat": 4,
 "nbformat_minor": 2
}
