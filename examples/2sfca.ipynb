{
 "cells": [
  {
   "cell_type": "code",
   "execution_count": null,
   "metadata": {},
   "outputs": [],
   "source": [
    "import pyaccess"
   ]
  },
  {
   "cell_type": "code",
   "execution_count": null,
   "metadata": {},
   "outputs": [],
   "source": [
    "# parse graph from osm\n",
    "graph = pyaccess.parse_osm(\"./data/osm.pbf\")\n",
    "# remove unused nodes and edges\n",
    "graph.optimize_base()\n",
    "# add a default weighting (time cost of traversing a street)\n",
    "graph.add_default_weighting()\n",
    "# add a partition with 20 cells\n",
    "graph.add_partition(\"partition20\", 20)\n",
    "# store the created graph to disk\n",
    "graph.store(\"test\", \"./data/graphs\")"
   ]
  },
  {
   "cell_type": "code",
   "execution_count": null,
   "metadata": {},
   "outputs": [],
   "source": [
    "# load graph from disk\n",
    "graph = pyaccess.load_graph(\"test\", \"./data/graphs\")\n",
    "# add a grasp overlay using the created partition\n",
    "graph.add_grasp_overlay(\"grasp20\", \"default\", \"partition20\")\n",
    "# store the modified graph components to disk\n",
    "graph.store(\"test\", \"./data/graphs\")"
   ]
  },
  {
   "cell_type": "code",
   "execution_count": null,
   "metadata": {},
   "outputs": [],
   "source": [
    "## compute 2SFCA\n",
    "\n",
    "# create a linear distance weighting ranging from 1 (at range 0s) to 0 (at range 1800s)\n",
    "decay = pyaccess.linear_decay(1800)\n",
    "\n",
    "# initialize random input data\n",
    "from random import random\n",
    "dem_points = []\n",
    "dem_weights = []\n",
    "sup_points = []\n",
    "sup_weights = []\n",
    "for i in range(100):\n",
    "    lon = random() * 0.5 + 7.0\n",
    "    lat = random() * 0.5 + 49.0\n",
    "    weight = 1\n",
    "    dem_points.append((lon, lat))\n",
    "    dem_weights.append(weight)\n",
    "for i in range(10):\n",
    "    lon = random() * 0.5 + 7.0\n",
    "    lat = random() * 0.5 + 49.0\n",
    "    weight = 1\n",
    "    sup_points.append((lon, lat))\n",
    "    sup_weights.append(weight)\n",
    "\n",
    "# compute 2SFCA accessibility from demand and supply data using the created overlay and GRASP-algorithm\n",
    "access = pyaccess.calc_2sfca(graph, dem_points, dem_weights, sup_points, sup_weights, decay=decay, algorithm=pyaccess.GRASP, overlay=\"grasp20\")"
   ]
  },
  {
   "cell_type": "code",
   "execution_count": null,
   "metadata": {},
   "outputs": [],
   "source": [
    "# clear graph from disk\n",
    "graph.delete()"
   ]
  }
 ],
 "metadata": {
  "language_info": {
   "name": "python"
  }
 },
 "nbformat": 4,
 "nbformat_minor": 2
}
